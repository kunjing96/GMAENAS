{
 "cells": [
  {
   "cell_type": "code",
   "execution_count": null,
   "metadata": {},
   "outputs": [],
   "source": []
  },
  {
   "cell_type": "code",
   "execution_count": null,
   "metadata": {},
   "outputs": [],
   "source": [
    "import matplotlib.pyplot as plt\n",
    "import numpy as np"
   ]
  },
  {
   "cell_type": "markdown",
   "metadata": {},
   "source": [
    "# Choice of Pre-training Tasks"
   ]
  },
  {
   "cell_type": "code",
   "execution_count": null,
   "metadata": {},
   "outputs": [],
   "source": [
    "ys = [0.6356, 0.5987, 0.6738]\n",
    "yerrs = [0.0010, 0.0109, 0.0029]\n",
    "colors = ['red','green','blue','orange','pink']\n",
    "markers = ['o', 's', '^', 'D', 'p']\n",
    "labels = ['GraphCL', 'MVGRL', 'MAE (Ours)']"
   ]
  },
  {
   "cell_type": "code",
   "execution_count": null,
   "metadata": {},
   "outputs": [],
   "source": [
    "for i in range(len(ys)):\n",
    "    plt.bar(i, ys[i], yerr=yerrs[i], color=colors[i])\n",
    "#plt.xlim(0, 1)\n",
    "plt.ylim(0.5, 0.75)\n",
    "#plt.legend(loc = 'lower right')\n",
    "plt.xlabel(\"Pre-Training Task\")\n",
    "plt.ylabel(\"Kendall Tau\")\n",
    "plt.xticks([0, 1, 2], labels)\n",
    "#plt.xscale('log')\n",
    "plt.savefig('PTTASKS.pdf')\n",
    "plt.show()"
   ]
  },
  {
   "cell_type": "markdown",
   "metadata": {},
   "source": [
    "# Choice of Masking Ratios"
   ]
  },
  {
   "cell_type": "code",
   "execution_count": null,
   "metadata": {},
   "outputs": [],
   "source": [
    "ys = [0.6010, 0.6125, 0.6425, 0.6868, 0.6907]\n",
    "yerrs = [0.0031, 0.0026, 0.0033, 0.0026, 0.0022]\n",
    "colors = ['red','green','blue','orange','pink']\n",
    "markers = ['o', 's', '^', 'D', 'v']\n",
    "labels = ['5%', '15%', '25%', '50%', '75% (Ours)']"
   ]
  },
  {
   "cell_type": "code",
   "execution_count": null,
   "metadata": {},
   "outputs": [],
   "source": [
    "for i in range(len(ys)):\n",
    "    plt.bar(i, ys[i], yerr=yerrs[i], color=colors[i])\n",
    "#plt.xlim(0, 1)\n",
    "plt.ylim(0.5, 0.75)\n",
    "#plt.legend(loc = 'lower right')\n",
    "plt.xlabel(\"Masking Ratio\")\n",
    "plt.ylabel(\"Kendall Tau\")\n",
    "plt.xticks([0, 1, 2, 3, 4], labels)\n",
    "#plt.xscale('log')\n",
    "plt.savefig('MASKINGRATIOS.pdf')\n",
    "plt.show()"
   ]
  },
  {
   "cell_type": "markdown",
   "metadata": {},
   "source": [
    "# Choice of Pre-Training Targets"
   ]
  },
  {
   "cell_type": "code",
   "execution_count": null,
   "metadata": {},
   "outputs": [],
   "source": [
    "ys = [0.6207, 0.6742]\n",
    "yerrs = [0.0022, 0.0066]\n",
    "colors = ['red','green','blue','orange','pink']\n",
    "markers = ['o', 's', '^', 'D', 'v']\n",
    "labels = ['all', 'masked (Ours)']"
   ]
  },
  {
   "cell_type": "code",
   "execution_count": null,
   "metadata": {},
   "outputs": [],
   "source": [
    "for i in range(len(ys)):\n",
    "    plt.bar(i, ys[i], yerr=yerrs[i], color=colors[i])\n",
    "#plt.xlim(0, 1)\n",
    "plt.ylim(0.5, 0.75)\n",
    "#plt.legend(loc = 'lower right')\n",
    "plt.xlabel(\"Pre-Training Target\")\n",
    "plt.ylabel(\"Kendall Tau\")\n",
    "plt.xticks([0, 1], labels)\n",
    "#plt.xscale('log')\n",
    "plt.savefig('PTTARGETS.pdf')\n",
    "plt.show()"
   ]
  },
  {
   "cell_type": "markdown",
   "metadata": {},
   "source": [
    "# Choice of Encoders and Decoders"
   ]
  },
  {
   "cell_type": "code",
   "execution_count": null,
   "metadata": {},
   "outputs": [],
   "source": [
    "ys = [0.6128, 0.6643, 0.6810]\n",
    "yerrs = [0.0058, 0.0028, 0.0030]\n",
    "colors = ['red','green','blue','orange','pink']\n",
    "markers = ['o', 's', '^', 'D', 'v']\n",
    "labels = ['Transformer', 'GCN', 'GAT (Ours)']"
   ]
  },
  {
   "cell_type": "code",
   "execution_count": null,
   "metadata": {},
   "outputs": [],
   "source": [
    "for i in range(len(ys)):\n",
    "    plt.bar(i, ys[i], yerr=yerrs[i], color=colors[i])\n",
    "#plt.xlim(0, 1)\n",
    "plt.ylim(0.5, 0.75)\n",
    "#plt.legend(loc = 'lower right')\n",
    "plt.xlabel(\"Model\")\n",
    "plt.ylabel(\"Kendall Tau\")\n",
    "plt.xticks([0, 1, 2], labels)\n",
    "#plt.xscale('log')\n",
    "plt.savefig('ENCSDECS.pdf')\n",
    "plt.show()"
   ]
  },
  {
   "cell_type": "markdown",
   "metadata": {},
   "source": [
    "# Choice of Fine-Tuning Targets"
   ]
  },
  {
   "cell_type": "code",
   "execution_count": null,
   "metadata": {},
   "outputs": [],
   "source": [
    "x = np.array([0.1, 0.2, 0.5, 1.0])\n",
    "#x = np.array([423, 846, 2115, 4230])\n",
    "ys = [np.array([0.5154, 0.5407, 0.5556, 0.5491]),\n",
    "      np.array([0.6599, 0.6756, 0.6735, 0.6762]),\n",
    "      np.array([0.6893, 0.7050, 0.7229, 0.7306]),]\n",
    "yerrs = [np.array([0.0384, 0.0221, 0.0261, 0.0304]),\n",
    "         np.array([0.0088, 0.0099, 0.0129, 0.0125]),\n",
    "         np.array([0.0077, 0.0067, 0.0053, 0.0033]),]\n",
    "colors = ['red','green','blue','orange','pink']\n",
    "markers = ['o', 's', '^', 'D', 'v']\n",
    "labels = ['MSE', 'Hinge', 'BPR (Ours)']"
   ]
  },
  {
   "cell_type": "code",
   "execution_count": null,
   "metadata": {},
   "outputs": [],
   "source": [
    "for i in range(len(ys)):\n",
    "    plt.errorbar(x, ys[i], yerr=yerrs[i], color=colors[i], marker=markers[i], linestyle=\"--\", label=labels[i])\n",
    "#plt.xlim(0, 1)\n",
    "#plt.ylim(0, 1)\n",
    "plt.legend(loc = 'lower right')\n",
    "plt.xlabel(\"Proportion of Evaluations (%)\")\n",
    "plt.ylabel(\"Kendall Tau\")\n",
    "x_name = ['0.1', '0.2', '0.5', '1.0']\n",
    "plt.xticks(x,x_name)\n",
    "#plt.xscale('log')\n",
    "plt.savefig('FTTARGETS.pdf')\n",
    "plt.show()"
   ]
  },
  {
   "cell_type": "markdown",
   "metadata": {},
   "source": [
    "# Choice of Fine-Tuning Modes"
   ]
  },
  {
   "cell_type": "code",
   "execution_count": null,
   "metadata": {},
   "outputs": [],
   "source": [
    "x = np.array([0.1, 0.2, 0.5, 1.0])\n",
    "#x = np.array([423, 846, 2115, 4230])\n",
    "ys = [np.array([0.7356, 0.7552, 0.7767, 0.7855]),\n",
    "      np.array([0.6875, 0.7051, 0.7228, 0.7312]),\n",
    "      np.array([0.7394, 0.7561, 0.7714, 0.7780]),]\n",
    "yerrs = [np.array([0.0089, 0.0066, 0.0029, 0.0024]),\n",
    "         np.array([0.0091, 0.0066, 0.0054, 0.0036]),\n",
    "         np.array([0.0077, 0.0054, 0.0033, 0.0019]),]\n",
    "colors = ['red','green','blue','orange','pink']\n",
    "markers = ['o', 's', '^', 'D', 'v']\n",
    "labels = ['Training from scratch', 'Partial fine-tuning', 'End-to-end fine-tuning']"
   ]
  },
  {
   "cell_type": "code",
   "execution_count": null,
   "metadata": {},
   "outputs": [],
   "source": [
    "for i in range(len(ys)):\n",
    "    plt.errorbar(x, ys[i], yerr=yerrs[i], color=colors[i], marker=markers[i], linestyle=\"--\", label=labels[i])\n",
    "#plt.xlim(0, 1)\n",
    "#plt.ylim(0, 1)\n",
    "plt.legend(loc = 'lower right')\n",
    "plt.xlabel(\"Proportion of Evaluations (%)\")\n",
    "plt.ylabel(\"Kendall Tau\")\n",
    "x_name = ['0.1', '0.2', '0.5', '1.0']\n",
    "plt.xticks(x,x_name)\n",
    "#plt.xscale('log')\n",
    "plt.savefig('FTMODES.pdf')\n",
    "plt.show()"
   ]
  },
  {
   "cell_type": "markdown",
   "metadata": {},
   "source": [
    "# Predictor Evaluation on NAS-Bench-101"
   ]
  },
  {
   "cell_type": "code",
   "execution_count": null,
   "metadata": {},
   "outputs": [],
   "source": [
    "xs = [np.array([423, 846, 2115, 4230]),\n",
    "      np.array([1000, 10000]),\n",
    "      np.array([1000, 10000]),\n",
    "      np.array([1000, 10000]),\n",
    "      np.array([190, 381, 1906, 3812]),\n",
    "      np.array([190, 381, 1906, 3812]),\n",
    "      np.array([190, 381, 1906, 3812]),\n",
    "      #np.array([190, 381, 1906, 3812]),\n",
    "      #np.array([423]),\n",
    "      np.array([423, 4230]),\n",
    "      np.array([79]),\n",
    "     ]\n",
    "ys = [np.array([0.7394, 0.7561, 0.7714, 0.7780]),\n",
    "      np.array([0.4373, 0.4870]),\n",
    "      np.array([0.5705, 0.6941]),\n",
    "      np.array([0.6541, 0.7814]),\n",
    "      np.array([0.3971, 0.5272, 0.6463, 0.7312]),\n",
    "      np.array([0.5509, 0.5993, 0.7112, 0.7747]),\n",
    "      np.array([0.5343, 0.5790, 0.7915, 0.8277]),\n",
    "      #np.array([0.7634, 0.7789, 0.8434, 0.8594]),\n",
    "      #np.array([0.751]),\n",
    "      np.array([0.6574, 0.8161]),\n",
    "      np.array([0.6490]),\n",
    "     ]\n",
    "yerrs = [np.array([0.0077, 0.0054, 0.0033, 0.0019]),\n",
    "         np.array([0.0112, 0.0096]),\n",
    "         np.array([0.0082, 0.0058]),\n",
    "         np.array([0.0078, 0.0042]),\n",
    "         np.array([0, 0, 0, 0]),\n",
    "         np.array([0, 0, 0, 0]),\n",
    "         np.array([0, 0, 0, 0]),\n",
    "         #np.array([0, 0, 0, 0]),\n",
    "         #np.array([0]),\n",
    "         np.array([0, 0]),\n",
    "         np.array([0]),\n",
    "        ]\n",
    "colors = ['red','orange','green','blue','pink','aliceblue','skyblue','deepskyblue','tomato']\n",
    "markers = ['o', 's', '^', 'D', 'v', '^', '>', '<', 'p', '*']\n",
    "labels = ['GMAE (Ours)', 'Peephole', 'E2EPP', 'SemiAssessor', 'MLP', 'LSTM', 'GCN', #'GATES', 'CTNAS', \n",
    "          'ReNAS', 'NPNAS']"
   ]
  },
  {
   "cell_type": "code",
   "execution_count": null,
   "metadata": {},
   "outputs": [],
   "source": [
    "for i in range(len(ys)):\n",
    "    #plt.errorbar(xs[i], ys[i], yerr=yerrs[i], color=colors[i], marker=markers[i], linestyle=\"--\", label=labels[i])\n",
    "    plt.plot(xs[i], ys[i], color=colors[i], marker=markers[i], linestyle=\"--\", label=labels[i])\n",
    "#plt.xlim(0, 1)\n",
    "#plt.ylim(0, 1)\n",
    "plt.legend(loc = 'lower right')\n",
    "plt.xlabel(\"Number of Samples\")\n",
    "plt.ylabel(\"Kendall Tau\")\n",
    "#plt.xscale('log')\n",
    "plt.savefig('PE101.pdf')\n",
    "plt.show()"
   ]
  },
  {
   "cell_type": "markdown",
   "metadata": {},
   "source": [
    "# Predictor Evaluation on NAS-Bench-201"
   ]
  },
  {
   "cell_type": "code",
   "execution_count": null,
   "metadata": {},
   "outputs": [],
   "source": [
    "x = np.array([1, 2, 5, 10])\n",
    "#x = np.array([423, 846, 2115, 4230])\n",
    "ys = [np.array([0.5, 0.6, 0.7, 0.8]),\n",
    "      np.array([0.54, 0.64, 0.74, 0.84]),\n",
    "      np.array([0.1, 0.2, 0.5, 0.9]),]\n",
    "yerrs = [np.array([0.05, 0.06, 0.07, 0.08]),\n",
    "         np.array([0.054, 0.064, 0.074, 0.084]),\n",
    "         np.array([0.01, 0.02, 0.05, 0.09]),]\n",
    "colors = ['red','green','blue','orange','pink']\n",
    "markers = ['o', 's', '^', 'D', 'v']\n",
    "labels = ['A', 'B', 'GMAE (Ours)']"
   ]
  },
  {
   "cell_type": "code",
   "execution_count": null,
   "metadata": {},
   "outputs": [],
   "source": [
    "for i in range(len(ys)):\n",
    "    plt.errorbar(x, ys[i], yerr=yerrs[i], color=colors[i], marker=markers[i], linestyle=\"--\", label=labels[i])\n",
    "#plt.xlim(0, 1)\n",
    "#plt.ylim(0, 1)\n",
    "plt.legend(loc = 'lower right')\n",
    "plt.xlabel(\"Proportion of Evaluations (%)\")\n",
    "plt.ylabel(\"Kendall Tau\")\n",
    "x_name = ['1', '2', '5', '10']\n",
    "plt.xticks(x,x_name)\n",
    "#plt.xscale('log')\n",
    "plt.show()"
   ]
  },
  {
   "cell_type": "markdown",
   "metadata": {},
   "source": [
    "# Predictor Evaluation on NAS-Bench-301"
   ]
  },
  {
   "cell_type": "code",
   "execution_count": null,
   "metadata": {},
   "outputs": [],
   "source": [
    "xs = [np.array([423, 846, 2115, 4230]),\n",
    "      np.array([1000, 10000]),\n",
    "      np.array([1000, 10000]),\n",
    "      np.array([1000, 10000]),\n",
    "      np.array([190, 381, 1906, 3812]),\n",
    "      np.array([190, 381, 1906, 3812]),\n",
    "      np.array([190, 381, 1906, 3812]),\n",
    "      #np.array([190, 381, 1906, 3812]),\n",
    "      #np.array([423]),\n",
    "      np.array([423, 4230]),\n",
    "      np.array([79]),\n",
    "     ]\n",
    "ys = [np.array([0.7394, 0.7561, 0.7714, 0.7780]),\n",
    "      np.array([0.4373, 0.4870]),\n",
    "      np.array([0.5705, 0.6941]),\n",
    "      np.array([0.6541, 0.7814]),\n",
    "      np.array([0.3971, 0.5272, 0.6463, 0.7312]),\n",
    "      np.array([0.5509, 0.5993, 0.7112, 0.7747]),\n",
    "      np.array([0.5343, 0.5790, 0.7915, 0.8277]),\n",
    "      #np.array([0.7634, 0.7789, 0.8434, 0.8594]),\n",
    "      #np.array([0.751]),\n",
    "      np.array([0.6574, 0.8161]),\n",
    "      np.array([0.6490]),\n",
    "     ]\n",
    "yerrs = [np.array([0.0077, 0.0054, 0.0033, 0.0019]),\n",
    "         np.array([0.0112, 0.0096]),\n",
    "         np.array([0.0082, 0.0058]),\n",
    "         np.array([0.0078, 0.0042]),\n",
    "         np.array([0, 0, 0, 0]),\n",
    "         np.array([0, 0, 0, 0]),\n",
    "         np.array([0, 0, 0, 0]),\n",
    "         #np.array([0, 0, 0, 0]),\n",
    "         #np.array([0]),\n",
    "         np.array([0, 0]),\n",
    "         np.array([0]),\n",
    "        ]\n",
    "colors = ['red','orange','green','blue','pink','violet','skyblue','deepskyblue','tomato']\n",
    "markers = ['o', 's', '^', 'D', 'v', '^', '>', '<', 'p', '*']\n",
    "labels = ['GMAE (Ours)', 'Peephole', 'E2EPP', 'SemiAssessor', 'MLP', 'LSTM', 'GCN', #'GATES', 'CTNAS', \n",
    "          'ReNAS', 'NPNAS']"
   ]
  },
  {
   "cell_type": "code",
   "execution_count": null,
   "metadata": {},
   "outputs": [],
   "source": [
    "for i in range(len(ys)):\n",
    "    #plt.errorbar(xs[i], ys[i], yerr=yerrs[i], color=colors[i], marker=markers[i], linestyle=\"--\", label=labels[i])\n",
    "    plt.plot(xs[i], ys[i], color=colors[i], marker=markers[i], linestyle=\"--\", label=labels[i])\n",
    "#plt.xlim(0, 1)\n",
    "#plt.ylim(0, 1)\n",
    "plt.legend(loc = 'lower right')\n",
    "plt.xlabel(\"Number of Samples\")\n",
    "plt.ylabel(\"Kendall Tau\")\n",
    "#plt.xscale('log')\n",
    "plt.savefig('PE301.pdf')\n",
    "plt.show()"
   ]
  },
  {
   "cell_type": "markdown",
   "metadata": {},
   "source": [
    "# Search Evaluation on NAS-Bench-101"
   ]
  },
  {
   "cell_type": "code",
   "execution_count": null,
   "metadata": {},
   "outputs": [],
   "source": [
    "x = np.array([10, 20, 30, 40, 50, 60, 70, 80, 90, 100, 110, 120, 130, 140, 150])\n",
    "\n",
    "ys = [np.array([7.17548072,6.74479127,6.36718869,6.24399066,6.21995211,\n",
    "                6.21494412,6.18489623,6.14483178,6.10276461,6.09074533,\n",
    "                6.08072937,6.05969608,6.02363825,6.01963162,5.97155452]),\n",
    "      np.array([7.13642001,6.77484095,6.33814096,6.17387831,6.15885437,\n",
    "                6.10276461,6.10276461,6.0867393, 6.02964759,6.02163434,\n",
    "                5.95552862,5.95252335,5.9374994, 5.93148947,5.90344429]),\n",
    "      np.array([7.08032846,6.91205859,6.46233976,6.20993495,6.03064835,\n",
    "                5.96955061,5.85737169,5.84535241,5.80628991,5.73317289,\n",
    "                5.72716355,5.71414232,5.64603329,5.63902259,5.63701928]),\n",
    "      np.array([6.9761616, 6.71574533,6.48737907,6.16886973,6.10576928,\n",
    "                6.04066491,5.97055376,5.91947198,5.84835827,5.80729246,\n",
    "                5.7421881, 5.74118614,5.72015345,5.69411159,5.69411159]),\n",
    "      np.array([6.71341,   6.54514,   6.39691,   6.3181,    6.27103,\n",
    "                6.20158,   6.10675,   6.10675,   6.11243,   6.08204,\n",
    "                6.08204,   6.08204,   6.05833,   5.96719,   5.92579]),\n",
    "      np.array([7.03058044,6.7190818 ,6.55615509,6.45733098,6.36251291,\n",
    "                6.2753733, 6.15484655,6.11444831,6.01328671,5.97722888,\n",
    "                5.92881878,5.92881878,5.85870663,5.82531969,5.82531969]),\n",
    "     ]\n",
    "\n",
    "yerrs = [np.array([0.62278808,0.39016786,0.27106463,0.19709948,0.16980016,\n",
    "                   0.16719542,0.17968904,0.140242,  0.15170575,0.14825425,\n",
    "                   0.13670707,0.12445691,0.16489741,0.16000619,0.17049677]),\n",
    "         np.array([0.53649373,0.39242378,0.11479634,0.09876955,0.09485779,\n",
    "                   0.09670008,0.09670008,0.10234513,0.12381088,0.11687478,\n",
    "                   0.1418751, 0.13755545,0.13088498,0.12691551,0.1210407 ]),\n",
    "         np.array([0.43107274,0.37669918,0.32225461,0.16280253,0.23632162,\n",
    "                   0.24632175,0.16896065,0.17401517,0.18604321,0.12054313,\n",
    "                   0.12009292,0.12079678,0.11698181,0.11868019,0.11764434]),\n",
    "         np.array([0.39889062,0.38561829,0.28344003,0.12081257,0.1367624,\n",
    "                   0.07461042,0.1320785, 0.15334668,0.19762106,0.15547791,\n",
    "                   0.15426363,0.15437744,0.1666066, 0.17395957,0.17395957]),\n",
    "         np.array([0.17701075,0.16484028,0.25854293,0.24580228,0.21779721,\n",
    "                   0.20979593,0.20677881,0.210943,  0.21108324,0.23377506,\n",
    "                   0.23377506,0.23377506,0.26686277,0.19671443,0.18532553]),\n",
    "         np.array([0.37395835,0.28613218,0.20835105,0.17356412,0.23037873,\n",
    "                   0.28898915,0.21013093,0.2400605, 0.2505405, 0.2445585,\n",
    "                   0.23697975,0.23697975,0.22122561,0.12342096,0.12342096]),\n",
    "        ]\n",
    "colors = ['red','orange','green','blue','pink','deepskyblue','tomato']\n",
    "markers = ['o', 's', '^', 'D', 'v', '^', '>', '<', 'p', '*']\n",
    "labels = ['GMAE+R', 'GMAE+RL', 'GMAE+AE', 'GMAE+BO', 'BANANAS', 'CATE-DNGO-LS']"
   ]
  },
  {
   "cell_type": "code",
   "execution_count": null,
   "metadata": {},
   "outputs": [],
   "source": [
    "for i in range(len(ys)):\n",
    "    #plt.errorbar(x, ys[i], yerr=yerrs[i], color=colors[i], marker=markers[i], linestyle=\"-\", label=labels[i])\n",
    "    plt.plot(x, ys[i], color=colors[i], marker=markers[i], linestyle=\"-\", label=labels[i])\n",
    "    plt.fill_between(x, ys[i]-yerrs[i], ys[i]+yerrs[i], color=colors[i], alpha=0.1)\n",
    "#plt.xlim(0, 1)\n",
    "#plt.ylim(5.5, 7.5)\n",
    "plt.legend(loc = 'upper right')\n",
    "plt.xlabel(\"Number of Queries\")\n",
    "plt.ylabel(\"Test Error (%)\")\n",
    "# x_name = ['1', '2', '5', '10']\n",
    "# plt.xticks(x,x_name)\n",
    "#plt.xscale('log')\n",
    "plt.savefig('SEARCH101.pdf')\n",
    "plt.show()"
   ]
  },
  {
   "cell_type": "markdown",
   "metadata": {},
   "source": [
    "# Search Evaluation on NAS-Bench-201"
   ]
  },
  {
   "cell_type": "code",
   "execution_count": null,
   "metadata": {},
   "outputs": [],
   "source": [
    "x = np.array([1, 2, 5, 10])\n",
    "#x = np.array([423, 846, 2115, 4230])\n",
    "ys = [np.array([0.5, 0.6, 0.7, 0.8]),\n",
    "      np.array([0.54, 0.64, 0.74, 0.84]),\n",
    "      np.array([0.1, 0.2, 0.5, 0.9]),]\n",
    "yerrs = [np.array([0.05, 0.06, 0.07, 0.08]),\n",
    "         np.array([0.054, 0.064, 0.074, 0.084]),\n",
    "         np.array([0.01, 0.02, 0.05, 0.09]),]\n",
    "colors = ['red','green','blue','orange','pink']\n",
    "markers = ['o', 's', '^', 'D', 'v']\n",
    "labels = ['A', 'B', 'GMAE (Ours)']"
   ]
  },
  {
   "cell_type": "code",
   "execution_count": null,
   "metadata": {},
   "outputs": [],
   "source": [
    "for i in range(len(ys)):\n",
    "    #plt.errorbar(x, ys[i], yerr=yerrs[i], color=colors[i], marker=markers[i], linestyle=\"--\", label=labels[i])\n",
    "    plt.plot(x, ys[i], color=colors[i], marker=markers[i], linestyle=\"-\", label=labels[i])\n",
    "    plt.fill_between(x, ys[i]-yerrs[i], ys[i]+yerrs[i], color=colors[i], alpha=0.1)\n",
    "#plt.xlim(0, 1)\n",
    "#plt.ylim(0, 1)\n",
    "plt.legend(loc = 'lower right')\n",
    "plt.xlabel(\"Proportion of Evaluations (%)\")\n",
    "plt.ylabel(\"Test Error\")\n",
    "x_name = ['1', '2', '5', '10']\n",
    "plt.xticks(x,x_name)\n",
    "#plt.xscale('log')\n",
    "plt.show()"
   ]
  },
  {
   "cell_type": "markdown",
   "metadata": {},
   "source": [
    "# Search Evaluation on NAS-Bench-301"
   ]
  },
  {
   "cell_type": "code",
   "execution_count": null,
   "metadata": {},
   "outputs": [],
   "source": [
    "x = np.array([10, 20, 30, 40, 50, 60, 70, 80, 90, 100])\n",
    "\n",
    "ys = [np.array([5.81163025,5.81163025,5.81163025,5.81163025,5.51728058,\n",
    "                5.51728058,5.51728058,5.51728058,5.51728058,5.51728058]),\n",
    "      np.array([5.837883,  5.837883,  5.44056702,5.44056702,5.44056702,\n",
    "                5.44056702,5.44056702,5.44056702,5.44056702,5.44056702]),\n",
    "      np.array([5.81163025,5.81163025,5.69491577,5.55457687,5.42455368,\n",
    "                5.35989685,5.27999344,5.22853241,5.18296204,5.14477081]),\n",
    "      np.array([5.81163025,5.81163025,5.61977234,5.44621124,5.3181778,\n",
    "                5.22811661,5.13979492,5.08979416,5.06461868,5.05560455]),\n",
    "      np.array([6.02027,   5.931195,  5.824376,  5.722635,  5.657621,\n",
    "                5.571624,  5.510115,  5.485735,  5.446859,  5.407018]),\n",
    "      np.array([5.97764313,5.40829241,5.39752066,5.35089612,5.32424867,\n",
    "                5.30911803,5.3051573, 5.30280232,5.29941082,5.27833283]),\n",
    "     ]\n",
    "\n",
    "yerrs = [np.array([8.8817842e-16,8.8817842e-16,8.8817842e-16,8.8817842e-16,0.0000000e+00,\n",
    "                   0.0000000e+00,0.0000000e+00,0.0000000e+00,0.0000000e+00,0.0000000e+00]),\n",
    "         np.array([8.8817842e-16,8.8817842e-16,8.8817842e-16,8.8817842e-16,8.8817842e-16,\n",
    "                   8.8817842e-16,8.8817842e-16,8.8817842e-16,8.8817842e-16,8.8817842e-16]),\n",
    "         np.array([8.88178420e-16,8.88178420e-16,9.15444490e-02,1.24063105e-01,1.34530824e-01,\n",
    "                   1.12851834e-01,1.27754516e-01,9.99758427e-02,1.02809734e-01,9.64886742e-02]),\n",
    "         np.array([8.88178420e-16,8.88178420e-16,8.98193360e-02,8.50730155e-02,7.56815072e-02,\n",
    "                   8.52700088e-02,6.25483308e-02,5.87963204e-02,5.49936598e-02,5.03741632e-02]),\n",
    "         np.array([0.17649814,0.1864808,0.2078854,0.12477145,0.13488272,\n",
    "                   0.09463961,0.1089063,0.09211009,0.08068532,0.07247992]),\n",
    "         np.array([0.17078517,0.15366826,0.14250751,0.08364525,0.06849959,\n",
    "                   0.07973078,0.07525432,0.07538732,0.07554659,0.07277671]),\n",
    "        ]\n",
    "colors = ['red','orange','green','blue','pink','deepskyblue','tomato']\n",
    "markers = ['o', 's', '^', 'D', 'v', '^', '>', '<', 'p', '*']\n",
    "labels = ['GMAE+R', 'GMAE+RL', 'GMAE+AE', 'GMAE+BO', 'BANANAS', 'CATE-DNGO-LS']"
   ]
  },
  {
   "cell_type": "code",
   "execution_count": null,
   "metadata": {},
   "outputs": [],
   "source": [
    "for i in range(len(ys)):\n",
    "    #plt.errorbar(x, ys[i], yerr=yerrs[i], color=colors[i], marker=markers[i], linestyle=\"-\", label=labels[i])\n",
    "    plt.plot(x, ys[i], color=colors[i], marker=markers[i], linestyle=\"-\", label=labels[i])\n",
    "    plt.fill_between(x, ys[i]-yerrs[i], ys[i]+yerrs[i], color=colors[i], alpha=0.1)\n",
    "#plt.xlim(0, 1)\n",
    "#plt.ylim(5.5, 7.5)\n",
    "plt.legend(loc = 'upper right')\n",
    "plt.xlabel(\"Number of Queries\")\n",
    "plt.ylabel(\"Test Error (%)\")\n",
    "# x_name = ['1', '2', '5', '10']\n",
    "# plt.xticks(x,x_name)\n",
    "#plt.xscale('log')\n",
    "plt.savefig('SEARCH301.pdf')\n",
    "plt.show()"
   ]
  },
  {
   "cell_type": "markdown",
   "metadata": {},
   "source": [
    "# Get Search Evaluation Data"
   ]
  },
  {
   "cell_type": "code",
   "execution_count": null,
   "metadata": {},
   "outputs": [],
   "source": [
    "import os\n",
    "import torch\n",
    "import numpy as np\n",
    "from collections import namedtuple\n",
    "Genotype = namedtuple('Genotype', 'normal normal_concat reduce reduce_concat')\n",
    "\n",
    "search_exps = ['search101', 'search201', 'search301']\n",
    "exp_names = ['r', 'rl', 'ae', 'bo']\n",
    "res = {}\n",
    "for e in search_exps:\n",
    "    for x in exp_names:\n",
    "        d = os.path.join(e, x)\n",
    "        print(d)\n",
    "        if os.path.exists(d):\n",
    "            hs = []\n",
    "            for s in os.listdir(d):\n",
    "                if s != '.ipynb_checkpoints':\n",
    "                    ckp = os.path.join(d, s, 'history.ckp')\n",
    "                    ckp = torch.load(ckp)['history']\n",
    "                    best = -1\n",
    "                    h = []\n",
    "                    for i in ckp:\n",
    "                        if '101' in e:\n",
    "                            N = 150\n",
    "                        elif '201' in e:\n",
    "                            N = 150\n",
    "                        elif '301' in e:\n",
    "                            N = 100\n",
    "                        if len(h) < N:\n",
    "                            if i[-2] > best: best = i[-2]\n",
    "                            h.append(best)\n",
    "                    hs.append(h)\n",
    "            hs = (1-np.array(hs)) * 100\n",
    "            hs = hs[:,9::10]\n",
    "            print(hs.shape)\n",
    "            res[e+x] = hs"
   ]
  },
  {
   "cell_type": "code",
   "execution_count": null,
   "metadata": {},
   "outputs": [],
   "source": [
    "import os\n",
    "import torch\n",
    "import numpy as np\n",
    "import pickle\n",
    "import json\n",
    "import sys\n",
    "\n",
    "search_exps = ['search101', 'search201', 'search301']\n",
    "exp_names = ['bananas', 'cate']\n",
    "#res = {}\n",
    "for e in search_exps:\n",
    "    for x in exp_names:\n",
    "        d = os.path.join(e, x)\n",
    "        print(d)\n",
    "        if os.path.exists(d):\n",
    "            hs = []\n",
    "            for s in os.listdir(d):\n",
    "                if s != '.ipynb_checkpoints':\n",
    "                    ckp = os.path.join(d, s)\n",
    "                    if x == 'bananas':\n",
    "                        with open(ckp, 'rb') as f:\n",
    "                            ckp = pickle.load(f)\n",
    "                        ckp = ckp[2][0][:,1]\n",
    "                    elif x == 'cate':\n",
    "                        with open(ckp,'r') as f:\n",
    "                            ckp = json.load(f)\n",
    "                        if '101' in e:\n",
    "                            ckp = (1-(0.943175752957662-np.array(ckp['regret_test'])[9::10]))*100\n",
    "                        elif '201' in e:\n",
    "                            ckp = (1-(0.943175752957662-np.array(ckp['regret_test'])[9::10]))*100\n",
    "                        elif '301' in e:\n",
    "                            ckp = (1-np.array(ckp['acc'])[9::10])*100\n",
    "                    else:\n",
    "                        ckp = None\n",
    "                    hs.append(ckp)\n",
    "            hs = np.array(hs)\n",
    "            print(hs.shape)\n",
    "            res[e+x] = hs"
   ]
  },
  {
   "cell_type": "code",
   "execution_count": null,
   "metadata": {},
   "outputs": [],
   "source": [
    "for k in res.keys():\n",
    "    print(k)\n",
    "    print('mean')\n",
    "    print(res[k].mean(0))\n",
    "    print('std')\n",
    "    print(res[k].std(0))"
   ]
  },
  {
   "cell_type": "code",
   "execution_count": null,
   "metadata": {},
   "outputs": [],
   "source": []
  }
 ],
 "metadata": {
  "kernelspec": {
   "display_name": "pytorch",
   "language": "python",
   "name": "pytorch"
  },
  "language_info": {
   "codemirror_mode": {
    "name": "ipython",
    "version": 3
   },
   "file_extension": ".py",
   "mimetype": "text/x-python",
   "name": "python",
   "nbconvert_exporter": "python",
   "pygments_lexer": "ipython3",
   "version": "3.8.0"
  }
 },
 "nbformat": 4,
 "nbformat_minor": 5
}
