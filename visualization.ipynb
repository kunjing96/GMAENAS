{
 "cells": [
  {
   "cell_type": "code",
   "execution_count": 3,
   "metadata": {},
   "outputs": [],
   "source": [
    "from torch_geometric.data import DataLoader\n",
    "from data import Dataset\n",
    "from model import Encoder, GRACE"
   ]
  },
  {
   "cell_type": "code",
   "execution_count": 2,
   "metadata": {},
   "outputs": [
    {
     "name": "stdout",
     "output_type": "stream",
     "text": [
      "try to create the NAS-Bench-201 api from /home/jingkun/datasets/NAS-Bench-201-v1_1-096897.pth\n"
     ]
    }
   ],
   "source": [
    "space = 'nasbench201'\n",
    "dataset = Dataset(space=space, root='~/datasets')\n",
    "dataloader = DataLoader(dataset, batch_size=32, shuffle=True)"
   ]
  },
  {
   "cell_type": "code",
   "execution_count": 3,
   "metadata": {},
   "outputs": [
    {
     "ename": "NameError",
     "evalue": "name 'torch' is not defined",
     "output_type": "error",
     "traceback": [
      "\u001b[0;31m---------------------------------------------------------------------------\u001b[0m",
      "\u001b[0;31mNameError\u001b[0m                                 Traceback (most recent call last)",
      "\u001b[0;32m/tmp/ipykernel_32920/3243407442.py\u001b[0m in \u001b[0;36m<module>\u001b[0;34m\u001b[0m\n\u001b[0;32m----> 1\u001b[0;31m \u001b[0mencoder\u001b[0m \u001b[0;34m=\u001b[0m \u001b[0mEncoder\u001b[0m\u001b[0;34m(\u001b[0m\u001b[0mlen\u001b[0m\u001b[0;34m(\u001b[0m\u001b[0mdataset\u001b[0m\u001b[0;34m.\u001b[0m\u001b[0mavailable_ops\u001b[0m\u001b[0;34m)\u001b[0m\u001b[0;34m,\u001b[0m \u001b[0;36m300\u001b[0m\u001b[0;34m,\u001b[0m \u001b[0;36m256\u001b[0m\u001b[0;34m,\u001b[0m \u001b[0mtorch\u001b[0m\u001b[0;34m.\u001b[0m\u001b[0mnn\u001b[0m\u001b[0;34m.\u001b[0m\u001b[0mPReLU\u001b[0m\u001b[0;34m(\u001b[0m\u001b[0;34m)\u001b[0m\u001b[0;34m,\u001b[0m \u001b[0mk\u001b[0m\u001b[0;34m=\u001b[0m\u001b[0;36m2\u001b[0m\u001b[0;34m,\u001b[0m \u001b[0mskip\u001b[0m\u001b[0;34m=\u001b[0m\u001b[0;32mFalse\u001b[0m\u001b[0;34m)\u001b[0m\u001b[0;34m\u001b[0m\u001b[0;34m\u001b[0m\u001b[0m\n\u001b[0m\u001b[1;32m      2\u001b[0m \u001b[0mmodel\u001b[0m \u001b[0;34m=\u001b[0m \u001b[0mGRACE\u001b[0m\u001b[0;34m(\u001b[0m\u001b[0mencoder\u001b[0m\u001b[0;34m,\u001b[0m \u001b[0;36m256\u001b[0m\u001b[0;34m,\u001b[0m \u001b[0;36m32\u001b[0m\u001b[0;34m,\u001b[0m \u001b[0;36m0.4\u001b[0m\u001b[0;34m)\u001b[0m\u001b[0;34m\u001b[0m\u001b[0;34m\u001b[0m\u001b[0m\n\u001b[1;32m      3\u001b[0m \u001b[0;32mfor\u001b[0m \u001b[0mi\u001b[0m\u001b[0;34m,\u001b[0m \u001b[0mbatch\u001b[0m \u001b[0;32min\u001b[0m \u001b[0menumerate\u001b[0m\u001b[0;34m(\u001b[0m\u001b[0mdataloader\u001b[0m\u001b[0;34m)\u001b[0m\u001b[0;34m:\u001b[0m\u001b[0;34m\u001b[0m\u001b[0;34m\u001b[0m\u001b[0m\n\u001b[1;32m      4\u001b[0m     \u001b[0mprint\u001b[0m\u001b[0;34m(\u001b[0m\u001b[0mlen\u001b[0m\u001b[0;34m(\u001b[0m\u001b[0mbatch\u001b[0m\u001b[0;34m)\u001b[0m\u001b[0;34m)\u001b[0m\u001b[0;34m\u001b[0m\u001b[0;34m\u001b[0m\u001b[0m\n\u001b[1;32m      5\u001b[0m     \u001b[0mx\u001b[0m\u001b[0;34m,\u001b[0m \u001b[0mg\u001b[0m \u001b[0;34m=\u001b[0m \u001b[0mmodel\u001b[0m\u001b[0;34m(\u001b[0m\u001b[0mbatch\u001b[0m\u001b[0;34m.\u001b[0m\u001b[0mx\u001b[0m\u001b[0;34m,\u001b[0m \u001b[0mbatch\u001b[0m\u001b[0;34m.\u001b[0m\u001b[0medge_index\u001b[0m\u001b[0;34m,\u001b[0m \u001b[0mbatch\u001b[0m\u001b[0;34m.\u001b[0m\u001b[0mptr\u001b[0m\u001b[0;34m)\u001b[0m\u001b[0;34m\u001b[0m\u001b[0;34m\u001b[0m\u001b[0m\n",
      "\u001b[0;31mNameError\u001b[0m: name 'torch' is not defined"
     ]
    }
   ],
   "source": [
    "encoder = Encoder(len(dataset.available_ops), 300, 256, torch.nn.PReLU(), k=2, skip=False)\n",
    "model = GRACE(encoder, 256, 32, 0.4)\n",
    "for i, batch in enumerate(dataloader):\n",
    "    print(len(batch))\n",
    "    x, g = model(batch.x, batch.edge_index, batch.ptr)\n",
    "    print(x.size())\n",
    "    print(g.size())\n",
    "    loss, node_loss, graph_loss = model.loss(x, x, g, g, batch.ptr)\n",
    "    print(loss, node_loss, graph_loss)\n",
    "    break"
   ]
  },
  {
   "cell_type": "markdown",
   "metadata": {},
   "source": [
    "# 降维"
   ]
  },
  {
   "cell_type": "code",
   "execution_count": 36,
   "metadata": {},
   "outputs": [],
   "source": [
    "import numpy as np\n",
    "from sklearn.datasets import load_iris\n",
    "from sklearn.decomposition import PCA\n",
    "from sklearn.discriminant_analysis import LinearDiscriminantAnalysis as LDA\n",
    "import matplotlib.pyplot as plt"
   ]
  },
  {
   "cell_type": "markdown",
   "metadata": {},
   "source": [
    "## PCA"
   ]
  },
  {
   "cell_type": "code",
   "execution_count": 41,
   "metadata": {},
   "outputs": [
    {
     "name": "stdout",
     "output_type": "stream",
     "text": [
      "<class 'numpy.ndarray'>\n"
     ]
    },
    {
     "data": {
      "image/png": "[encoded data removed]",
      "text/plain": [
       "<Figure size 432x288 with 1 Axes>"
      ]
     },
     "metadata": {
      "needs_background": "light"
     },
     "output_type": "display_data"
    }
   ],
   "source": [
    "data = load_iris()\n",
    "X = data.data\n",
    "\n",
    "sklearn_pca = PCA(n_components=2)\n",
    "data_2d = sklearn_pca.fit_transform(X)\n",
    "plt.figure()\n",
    "plt.scatter(data_2d[:, 0], data_2d[:, 1])\n",
    "plt.show()"
   ]
  },
  {
   "cell_type": "markdown",
   "metadata": {},
   "source": [
    "# 图嵌入可视化"
   ]
  },
  {
   "cell_type": "code",
   "execution_count": 1,
   "metadata": {},
   "outputs": [],
   "source": [
    "import os\n",
    "import numpy as np\n",
    "import torch\n",
    "from itertools import chain\n",
    "from torch_geometric.data import InMemoryDataset, Data, Batch"
   ]
  },
  {
   "cell_type": "code",
   "execution_count": 2,
   "metadata": {},
   "outputs": [
    {
     "name": "stderr",
     "output_type": "stream",
     "text": [
      "2022-01-05 16:25:09.417715: I tensorflow/stream_executor/platform/default/dso_loader.cc:53] Successfully opened dynamic library libcudart.so.11.0\n"
     ]
    },
    {
     "name": "stdout",
     "output_type": "stream",
     "text": [
      "Loading dataset from file... This may take a few minutes...\n",
      "WARNING:tensorflow:From /home/jingkun/Training-free-NAS/nasbench/nasbench/api.py:146: tf_record_iterator (from tensorflow.python.lib.io.tf_record) is deprecated and will be removed in a future version.\n",
      "Instructions for updating:\n",
      "Use eager execution and: \n",
      "`tf.data.TFRecordDataset(path)`\n",
      "Loaded dataset in 153 seconds\n"
     ]
    }
   ],
   "source": [
    "# nasbench101\n",
    "root = '/home/jingkun/datasets'\n",
    "from nasbench import api as NASBench101API\n",
    "data_path = os.path.join(root, 'nasbench_full.tfrecord')\n",
    "nasbench = NASBench101API.NASBench(data_path)\n",
    "available_ops = ['input', 'conv3x3-bn-relu', 'conv1x1-bn-relu', 'maxpool3x3', 'output']"
   ]
  },
  {
   "cell_type": "code",
   "execution_count": 5,
   "metadata": {},
   "outputs": [],
   "source": [
    "# nasbench201\n",
    "root = '/home/jingkun/datasets'\n",
    "from nas_201_api import NASBench201API\n",
    "data_path = os.path.join(root, 'NAS-Bench-201-v1_1-096897.pth')\n",
    "nasbench = NASBench201API(data_path, verbose=False)\n",
    "available_ops = ['input', 'none', 'skip_connect', 'nor_conv_1x1', 'nor_conv_3x3', 'avg_pool_3x3', 'output']"
   ]
  },
  {
   "cell_type": "code",
   "execution_count": 3,
   "metadata": {},
   "outputs": [],
   "source": [
    "def nasbench201_to_nasbench101(arch_list):\n",
    "    num_ops = sum(range(1, 1 + len(arch_list))) + 2\n",
    "    adj = np.zeros((num_ops, num_ops), dtype=np.uint8)\n",
    "    ops = ['input', 'output']\n",
    "    node_lists = [[0]]\n",
    "    for node_201 in arch_list:\n",
    "        node_list = []\n",
    "        for node in node_201:\n",
    "            node_idx = len(ops) - 1\n",
    "            adj[node_lists[node[1]], node_idx] = 1\n",
    "            ops.insert(-1, node[0])\n",
    "            node_list.append(node_idx)\n",
    "        node_lists.append(node_list)\n",
    "    adj[-(1+len(arch_list)):-1, -1] = 1\n",
    "    arch = {'adj': adj,\n",
    "            'ops': ops,}\n",
    "    return arch\n",
    "\n",
    "\n",
    "def arch2Data(arch):\n",
    "    x = torch.tensor([available_ops.index(x) for x in arch['ops']], dtype=torch.long)\n",
    "    if 'acc' in arch.keys():\n",
    "        y = torch.ones_like(x) * arch['acc']\n",
    "    else:\n",
    "        y = None\n",
    "    forward_edges = [[(i, j) for j, x in enumerate(xs) if x > 0] for i, xs in enumerate(arch['adj'])]\n",
    "    forward_edges = np.array(list(chain(*forward_edges)))\n",
    "    backward_edges = forward_edges[::-1, ::-1]\n",
    "    edges = np.concatenate([forward_edges, backward_edges])\n",
    "    edge_index = torch.tensor(edges, dtype=torch.long).t().contiguous()\n",
    "    data = Data(x=x, y=y, edge_index=edge_index)\n",
    "    return data\n",
    "\n",
    "# def arch2Data(arch):\n",
    "#     x = torch.tensor([available_ops.index(x) for x in arch['ops']], dtype=torch.long)\n",
    "#     if 'acc' in arch.keys():\n",
    "#         y = torch.ones_like(x) * arch['acc']\n",
    "#     else:\n",
    "#         y = None\n",
    "#     forward_edges = [[(i, j) for j, x in enumerate(xs) if x > 0] for i, xs in enumerate(arch['adj'])]\n",
    "#     forward_edges = np.array(list(chain(*forward_edges)))\n",
    "#     backward_edges = forward_edges[::-1, ::-1]\n",
    "#     edges = np.concatenate([forward_edges, backward_edges])\n",
    "#     edge_index = torch.tensor(edges, dtype=torch.long).t().contiguous()\n",
    "#     data = Data(x=x, y=y, edge_index=edge_index)\n",
    "#     return data"
   ]
  },
  {
   "cell_type": "code",
   "execution_count": 45,
   "metadata": {},
   "outputs": [
    {
     "name": "stdout",
     "output_type": "stream",
     "text": [
      "[({'adj': array([[0, 1, 1, 0, 0, 0, 0],\n",
      "       [0, 0, 0, 1, 0, 0, 0],\n",
      "       [0, 0, 0, 1, 0, 0, 0],\n",
      "       [0, 0, 0, 0, 1, 1, 1],\n",
      "       [0, 0, 0, 0, 0, 1, 0],\n",
      "       [0, 0, 0, 0, 0, 0, 1],\n",
      "       [0, 0, 0, 0, 0, 0, 0]]), 'ops': ['input', 'conv1x1-bn-relu', 'maxpool3x3', 'conv1x1-bn-relu', 'maxpool3x3', 'conv3x3-bn-relu', 'output']},), ({'adj': array([[0, 1, 1, 0, 0, 0, 0],\n",
      "       [0, 0, 0, 1, 0, 0, 0],\n",
      "       [0, 0, 0, 1, 0, 0, 0],\n",
      "       [0, 0, 0, 0, 1, 1, 1],\n",
      "       [0, 0, 0, 0, 0, 1, 0],\n",
      "       [0, 0, 0, 0, 0, 0, 1],\n",
      "       [0, 0, 0, 0, 0, 0, 0]]), 'ops': ['input', 'conv3x3-bn-relu', 'maxpool3x3', 'conv1x1-bn-relu', 'maxpool3x3', 'conv3x3-bn-relu', 'output']},), ({'adj': array([[0, 1, 0, 0, 0, 0, 0],\n",
      "       [0, 0, 1, 1, 0, 1, 0],\n",
      "       [0, 0, 0, 1, 0, 0, 0],\n",
      "       [0, 0, 0, 0, 1, 0, 1],\n",
      "       [0, 0, 0, 0, 0, 1, 0],\n",
      "       [0, 0, 0, 0, 0, 0, 1],\n",
      "       [0, 0, 0, 0, 0, 0, 0]]), 'ops': ['input', 'conv1x1-bn-relu', 'conv1x1-bn-relu', 'conv3x3-bn-relu', 'conv1x1-bn-relu', 'maxpool3x3', 'output']},), ({'adj': array([[0, 1, 0, 0, 0, 0, 0],\n",
      "       [0, 0, 1, 1, 0, 1, 0],\n",
      "       [0, 0, 0, 1, 0, 0, 0],\n",
      "       [0, 0, 0, 0, 1, 0, 1],\n",
      "       [0, 0, 0, 0, 0, 1, 0],\n",
      "       [0, 0, 0, 0, 0, 0, 1],\n",
      "       [0, 0, 0, 0, 0, 0, 0]]), 'ops': ['input', 'conv3x3-bn-relu', 'conv1x1-bn-relu', 'conv3x3-bn-relu', 'conv1x1-bn-relu', 'maxpool3x3', 'output']},), ({'adj': array([[0, 1, 1, 0, 0, 0, 0],\n",
      "       [0, 0, 0, 0, 1, 0, 0],\n",
      "       [0, 0, 0, 1, 0, 0, 0],\n",
      "       [0, 0, 0, 0, 1, 1, 1],\n",
      "       [0, 0, 0, 0, 0, 1, 0],\n",
      "       [0, 0, 0, 0, 0, 0, 1],\n",
      "       [0, 0, 0, 0, 0, 0, 0]]), 'ops': ['input', 'conv1x1-bn-relu', 'conv1x1-bn-relu', 'conv1x1-bn-relu', 'maxpool3x3', 'conv3x3-bn-relu', 'output']},), ({'adj': array([[0, 1, 1, 0, 0, 0, 0],\n",
      "       [0, 0, 0, 0, 1, 0, 0],\n",
      "       [0, 0, 0, 1, 0, 0, 0],\n",
      "       [0, 0, 0, 0, 1, 1, 1],\n",
      "       [0, 0, 0, 0, 0, 1, 0],\n",
      "       [0, 0, 0, 0, 0, 0, 1],\n",
      "       [0, 0, 0, 0, 0, 0, 0]]), 'ops': ['input', 'conv1x1-bn-relu', 'conv3x3-bn-relu', 'conv1x1-bn-relu', 'maxpool3x3', 'conv3x3-bn-relu', 'output']},), ({'adj': array([[0, 1, 0, 0, 1, 0, 0],\n",
      "       [0, 0, 1, 0, 0, 1, 0],\n",
      "       [0, 0, 0, 1, 0, 0, 0],\n",
      "       [0, 0, 0, 0, 1, 0, 1],\n",
      "       [0, 0, 0, 0, 0, 1, 0],\n",
      "       [0, 0, 0, 0, 0, 0, 1],\n",
      "       [0, 0, 0, 0, 0, 0, 0]]), 'ops': ['input', 'conv1x1-bn-relu', 'conv1x1-bn-relu', 'conv3x3-bn-relu', 'conv1x1-bn-relu', 'maxpool3x3', 'output']},), ({'adj': array([[0, 1, 0, 0, 1, 0, 0],\n",
      "       [0, 0, 1, 0, 0, 1, 0],\n",
      "       [0, 0, 0, 1, 0, 0, 0],\n",
      "       [0, 0, 0, 0, 1, 0, 1],\n",
      "       [0, 0, 0, 0, 0, 1, 0],\n",
      "       [0, 0, 0, 0, 0, 0, 1],\n",
      "       [0, 0, 0, 0, 0, 0, 0]]), 'ops': ['input', 'conv1x1-bn-relu', 'conv3x3-bn-relu', 'conv3x3-bn-relu', 'conv1x1-bn-relu', 'maxpool3x3', 'output']},), ({'adj': array([[0, 1, 1, 0, 0, 0, 0],\n",
      "       [0, 0, 0, 1, 0, 0, 0],\n",
      "       [0, 0, 0, 1, 0, 0, 0],\n",
      "       [0, 0, 0, 0, 1, 1, 1],\n",
      "       [0, 0, 0, 0, 0, 1, 0],\n",
      "       [0, 0, 0, 0, 0, 0, 1],\n",
      "       [0, 0, 0, 0, 0, 0, 0]]), 'ops': ['input', 'maxpool3x3', 'conv1x1-bn-relu', 'conv1x1-bn-relu', 'maxpool3x3', 'conv3x3-bn-relu', 'output']},), ({'adj': array([[0, 1, 0, 0, 1, 0, 1],\n",
      "       [0, 0, 1, 0, 0, 0, 0],\n",
      "       [0, 0, 0, 1, 0, 0, 1],\n",
      "       [0, 0, 0, 0, 0, 0, 1],\n",
      "       [0, 0, 0, 0, 0, 1, 0],\n",
      "       [0, 0, 0, 0, 0, 0, 1],\n",
      "       [0, 0, 0, 0, 0, 0, 0]], dtype=int8), 'ops': ['input', 'conv1x1-bn-relu', 'conv1x1-bn-relu', 'conv1x1-bn-relu', 'maxpool3x3', 'conv1x1-bn-relu', 'output']},)]\n",
      "Batch(batch=[70], edge_index=[2, 180], ptr=[11], x=[70])\n"
     ]
    }
   ],
   "source": [
    "arch1 = {'adj': np.array([[0, 1, 1, 0, 0, 0, 0],\n",
    "                          [0, 0, 0, 1, 0, 0, 0],\n",
    "                          [0, 0, 0, 1, 0, 0, 0],\n",
    "                          [0, 0, 0, 0, 1, 1, 1],\n",
    "                          [0, 0, 0, 0, 0, 1, 0],\n",
    "                          [0, 0, 0, 0, 0, 0, 1],\n",
    "                          [0, 0, 0, 0, 0, 0, 0]]),\n",
    "         'ops': ['input', 'conv1x1-bn-relu', 'maxpool3x3', 'conv1x1-bn-relu', 'maxpool3x3', 'conv3x3-bn-relu', 'output'],}\n",
    "arch2 = {'adj': np.array([[0, 1, 1, 0, 0, 0, 0],\n",
    "                          [0, 0, 0, 1, 0, 0, 0],\n",
    "                          [0, 0, 0, 1, 0, 0, 0],\n",
    "                          [0, 0, 0, 0, 1, 1, 1],\n",
    "                          [0, 0, 0, 0, 0, 1, 0],\n",
    "                          [0, 0, 0, 0, 0, 0, 1],\n",
    "                          [0, 0, 0, 0, 0, 0, 0]]),\n",
    "         'ops': ['input', 'conv3x3-bn-relu', 'maxpool3x3', 'conv1x1-bn-relu', 'maxpool3x3', 'conv3x3-bn-relu', 'output'],}\n",
    "arch3 = {'adj': np.array([[0, 1, 0, 0, 0, 0, 0],\n",
    "                          [0, 0, 1, 1, 0, 1, 0],\n",
    "                          [0, 0, 0, 1, 0, 0, 0],\n",
    "                          [0, 0, 0, 0, 1, 0, 1],\n",
    "                          [0, 0, 0, 0, 0, 1, 0],\n",
    "                          [0, 0, 0, 0, 0, 0, 1],\n",
    "                          [0, 0, 0, 0, 0, 0, 0]]),\n",
    "         'ops': ['input', 'conv1x1-bn-relu', 'conv1x1-bn-relu', 'conv3x3-bn-relu', 'conv1x1-bn-relu', 'maxpool3x3', 'output'],}\n",
    "arch4 = {'adj': np.array([[0, 1, 0, 0, 0, 0, 0],\n",
    "                          [0, 0, 1, 1, 0, 1, 0],\n",
    "                          [0, 0, 0, 1, 0, 0, 0],\n",
    "                          [0, 0, 0, 0, 1, 0, 1],\n",
    "                          [0, 0, 0, 0, 0, 1, 0],\n",
    "                          [0, 0, 0, 0, 0, 0, 1],\n",
    "                          [0, 0, 0, 0, 0, 0, 0]]),\n",
    "         'ops': ['input', 'conv3x3-bn-relu', 'conv1x1-bn-relu', 'conv3x3-bn-relu', 'conv1x1-bn-relu', 'maxpool3x3', 'output'],}\n",
    "arch5 = {'adj': np.array([[0, 1, 1, 0, 0, 0, 0],\n",
    "                          [0, 0, 0, 0, 1, 0, 0],\n",
    "                          [0, 0, 0, 1, 0, 0, 0],\n",
    "                          [0, 0, 0, 0, 1, 1, 1],\n",
    "                          [0, 0, 0, 0, 0, 1, 0],\n",
    "                          [0, 0, 0, 0, 0, 0, 1],\n",
    "                          [0, 0, 0, 0, 0, 0, 0]]),\n",
    "         'ops': ['input', 'conv1x1-bn-relu', 'conv1x1-bn-relu', 'conv1x1-bn-relu', 'maxpool3x3', 'conv3x3-bn-relu', 'output'],}\n",
    "arch6 = {'adj': np.array([[0, 1, 1, 0, 0, 0, 0],\n",
    "                          [0, 0, 0, 0, 1, 0, 0],\n",
    "                          [0, 0, 0, 1, 0, 0, 0],\n",
    "                          [0, 0, 0, 0, 1, 1, 1],\n",
    "                          [0, 0, 0, 0, 0, 1, 0],\n",
    "                          [0, 0, 0, 0, 0, 0, 1],\n",
    "                          [0, 0, 0, 0, 0, 0, 0]]),\n",
    "         'ops': ['input', 'conv1x1-bn-relu', 'conv3x3-bn-relu', 'conv1x1-bn-relu', 'maxpool3x3', 'conv3x3-bn-relu', 'output'],}\n",
    "arch7 = {'adj': np.array([[0, 1, 0, 0, 1, 0, 0],\n",
    "                          [0, 0, 1, 0, 0, 1, 0],\n",
    "                          [0, 0, 0, 1, 0, 0, 0],\n",
    "                          [0, 0, 0, 0, 1, 0, 1],\n",
    "                          [0, 0, 0, 0, 0, 1, 0],\n",
    "                          [0, 0, 0, 0, 0, 0, 1],\n",
    "                          [0, 0, 0, 0, 0, 0, 0]]),\n",
    "         'ops': ['input', 'conv1x1-bn-relu', 'conv1x1-bn-relu', 'conv3x3-bn-relu', 'conv1x1-bn-relu', 'maxpool3x3', 'output'],}\n",
    "arch8 = {'adj': np.array([[0, 1, 0, 0, 1, 0, 0],\n",
    "                          [0, 0, 1, 0, 0, 1, 0],\n",
    "                          [0, 0, 0, 1, 0, 0, 0],\n",
    "                          [0, 0, 0, 0, 1, 0, 1],\n",
    "                          [0, 0, 0, 0, 0, 1, 0],\n",
    "                          [0, 0, 0, 0, 0, 0, 1],\n",
    "                          [0, 0, 0, 0, 0, 0, 0]]),\n",
    "         'ops': ['input', 'conv1x1-bn-relu', 'conv3x3-bn-relu', 'conv3x3-bn-relu', 'conv1x1-bn-relu', 'maxpool3x3', 'output'],}\n",
    "arch9 = {'adj': np.array([[0, 1, 1, 0, 0, 0, 0],\n",
    "                          [0, 0, 0, 1, 0, 0, 0],\n",
    "                          [0, 0, 0, 1, 0, 0, 0],\n",
    "                          [0, 0, 0, 0, 1, 1, 1],\n",
    "                          [0, 0, 0, 0, 0, 1, 0],\n",
    "                          [0, 0, 0, 0, 0, 0, 1],\n",
    "                          [0, 0, 0, 0, 0, 0, 0]]),\n",
    "         'ops': ['input', 'maxpool3x3', 'conv1x1-bn-relu', 'conv1x1-bn-relu', 'maxpool3x3', 'conv3x3-bn-relu', 'output'],}\n",
    "fixed = nasbench.fixed_statistics[list(nasbench.hash_iterator())[100000]]\n",
    "arch10 = {'adj': fixed['module_adjacency'], 'ops': fixed['module_operations']}\n",
    "archs = [(arch1,), (arch2,), (arch3,), (arch4,), (arch5,), (arch6,), (arch7,), (arch8,), (arch9,), (arch10,)]\n",
    "\n",
    "print(archs)\n",
    "data_list = []\n",
    "for arch in archs:\n",
    "    data_list.append(arch2Data(arch[0]))\n",
    "batch = Batch.from_data_list(data_list)\n",
    "print(batch)"
   ]
  },
  {
   "cell_type": "code",
   "execution_count": 37,
   "metadata": {},
   "outputs": [
    {
     "name": "stdout",
     "output_type": "stream",
     "text": [
      "[([(('avg_pool_3x3', 0),), (('nor_conv_1x1', 0), ('skip_connect', 1)), (('nor_conv_1x1', 0), ('skip_connect', 1), ('skip_connect', 2))],), ([(('avg_pool_3x3', 0),), (('nor_conv_1x1', 0), ('nor_conv_3x3', 1)), (('nor_conv_1x1', 0), ('skip_connect', 1), ('skip_connect', 2))],), ([(('nor_conv_1x1', 0),), (('nor_conv_3x3', 0), ('skip_connect', 1)), (('skip_connect', 0), ('skip_connect', 1), ('avg_pool_3x3', 2))],), ([(('nor_conv_1x1', 0),), (('nor_conv_3x3', 0), ('nor_conv_3x3', 1)), (('skip_connect', 0), ('skip_connect', 1), ('avg_pool_3x3', 2))],), ([(('nor_conv_3x3', 0),), (('nor_conv_3x3', 0), ('skip_connect', 1)), (('avg_pool_3x3', 0), ('skip_connect', 1), ('avg_pool_3x3', 2))],), ([(('nor_conv_3x3', 0),), (('nor_conv_3x3', 0), ('nor_conv_3x3', 1)), (('avg_pool_3x3', 0), ('skip_connect', 1), ('avg_pool_3x3', 2))],)]\n"
     ]
    },
    {
     "ename": "ValueError",
     "evalue": "'avg_pool_3x3' is not in list",
     "output_type": "error",
     "traceback": [
      "\u001b[0;31m---------------------------------------------------------------------------\u001b[0m",
      "\u001b[0;31mValueError\u001b[0m                                Traceback (most recent call last)",
      "\u001b[0;32m/tmp/ipykernel_17780/99703170.py\u001b[0m in \u001b[0;36m<module>\u001b[0;34m\u001b[0m\n\u001b[1;32m     16\u001b[0m \u001b[0;32mfor\u001b[0m \u001b[0march\u001b[0m \u001b[0;32min\u001b[0m \u001b[0marchs\u001b[0m\u001b[0;34m:\u001b[0m\u001b[0;34m\u001b[0m\u001b[0;34m\u001b[0m\u001b[0m\n\u001b[1;32m     17\u001b[0m     \u001b[0ma\u001b[0m \u001b[0;34m=\u001b[0m \u001b[0mnasbench201_to_nasbench101\u001b[0m\u001b[0;34m(\u001b[0m\u001b[0march\u001b[0m\u001b[0;34m[\u001b[0m\u001b[0;36m0\u001b[0m\u001b[0;34m]\u001b[0m\u001b[0;34m)\u001b[0m\u001b[0;34m\u001b[0m\u001b[0;34m\u001b[0m\u001b[0m\n\u001b[0;32m---> 18\u001b[0;31m     \u001b[0mdata_list\u001b[0m\u001b[0;34m.\u001b[0m\u001b[0mappend\u001b[0m\u001b[0;34m(\u001b[0m\u001b[0march2Data\u001b[0m\u001b[0;34m(\u001b[0m\u001b[0ma\u001b[0m\u001b[0;34m)\u001b[0m\u001b[0;34m)\u001b[0m\u001b[0;34m\u001b[0m\u001b[0;34m\u001b[0m\u001b[0m\n\u001b[0m\u001b[1;32m     19\u001b[0m \u001b[0mbatch\u001b[0m \u001b[0;34m=\u001b[0m \u001b[0mBatch\u001b[0m\u001b[0;34m.\u001b[0m\u001b[0mfrom_data_list\u001b[0m\u001b[0;34m(\u001b[0m\u001b[0mdata_list\u001b[0m\u001b[0;34m)\u001b[0m\u001b[0;34m\u001b[0m\u001b[0;34m\u001b[0m\u001b[0m\n\u001b[1;32m     20\u001b[0m \u001b[0mprint\u001b[0m\u001b[0;34m(\u001b[0m\u001b[0mbatch\u001b[0m\u001b[0;34m)\u001b[0m\u001b[0;34m\u001b[0m\u001b[0;34m\u001b[0m\u001b[0m\n",
      "\u001b[0;32m/tmp/ipykernel_17780/1672967526.py\u001b[0m in \u001b[0;36march2Data\u001b[0;34m(arch)\u001b[0m\n\u001b[1;32m     19\u001b[0m \u001b[0;34m\u001b[0m\u001b[0m\n\u001b[1;32m     20\u001b[0m \u001b[0;32mdef\u001b[0m \u001b[0march2Data\u001b[0m\u001b[0;34m(\u001b[0m\u001b[0march\u001b[0m\u001b[0;34m)\u001b[0m\u001b[0;34m:\u001b[0m\u001b[0;34m\u001b[0m\u001b[0;34m\u001b[0m\u001b[0m\n\u001b[0;32m---> 21\u001b[0;31m     \u001b[0mx\u001b[0m \u001b[0;34m=\u001b[0m \u001b[0mtorch\u001b[0m\u001b[0;34m.\u001b[0m\u001b[0mtensor\u001b[0m\u001b[0;34m(\u001b[0m\u001b[0;34m[\u001b[0m\u001b[0mavailable_ops\u001b[0m\u001b[0;34m.\u001b[0m\u001b[0mindex\u001b[0m\u001b[0;34m(\u001b[0m\u001b[0mx\u001b[0m\u001b[0;34m)\u001b[0m \u001b[0;32mfor\u001b[0m \u001b[0mx\u001b[0m \u001b[0;32min\u001b[0m \u001b[0march\u001b[0m\u001b[0;34m[\u001b[0m\u001b[0;34m'ops'\u001b[0m\u001b[0;34m]\u001b[0m\u001b[0;34m]\u001b[0m\u001b[0;34m,\u001b[0m \u001b[0mdtype\u001b[0m\u001b[0;34m=\u001b[0m\u001b[0mtorch\u001b[0m\u001b[0;34m.\u001b[0m\u001b[0mlong\u001b[0m\u001b[0;34m)\u001b[0m\u001b[0;34m\u001b[0m\u001b[0;34m\u001b[0m\u001b[0m\n\u001b[0m\u001b[1;32m     22\u001b[0m     \u001b[0;32mif\u001b[0m \u001b[0;34m'acc'\u001b[0m \u001b[0;32min\u001b[0m \u001b[0march\u001b[0m\u001b[0;34m.\u001b[0m\u001b[0mkeys\u001b[0m\u001b[0;34m(\u001b[0m\u001b[0;34m)\u001b[0m\u001b[0;34m:\u001b[0m\u001b[0;34m\u001b[0m\u001b[0;34m\u001b[0m\u001b[0m\n\u001b[1;32m     23\u001b[0m         \u001b[0my\u001b[0m \u001b[0;34m=\u001b[0m \u001b[0mtorch\u001b[0m\u001b[0;34m.\u001b[0m\u001b[0mones_like\u001b[0m\u001b[0;34m(\u001b[0m\u001b[0mx\u001b[0m\u001b[0;34m)\u001b[0m \u001b[0;34m*\u001b[0m \u001b[0march\u001b[0m\u001b[0;34m[\u001b[0m\u001b[0;34m'acc'\u001b[0m\u001b[0;34m]\u001b[0m\u001b[0;34m\u001b[0m\u001b[0;34m\u001b[0m\u001b[0m\n",
      "\u001b[0;32m/tmp/ipykernel_17780/1672967526.py\u001b[0m in \u001b[0;36m<listcomp>\u001b[0;34m(.0)\u001b[0m\n\u001b[1;32m     19\u001b[0m \u001b[0;34m\u001b[0m\u001b[0m\n\u001b[1;32m     20\u001b[0m \u001b[0;32mdef\u001b[0m \u001b[0march2Data\u001b[0m\u001b[0;34m(\u001b[0m\u001b[0march\u001b[0m\u001b[0;34m)\u001b[0m\u001b[0;34m:\u001b[0m\u001b[0;34m\u001b[0m\u001b[0;34m\u001b[0m\u001b[0m\n\u001b[0;32m---> 21\u001b[0;31m     \u001b[0mx\u001b[0m \u001b[0;34m=\u001b[0m \u001b[0mtorch\u001b[0m\u001b[0;34m.\u001b[0m\u001b[0mtensor\u001b[0m\u001b[0;34m(\u001b[0m\u001b[0;34m[\u001b[0m\u001b[0mavailable_ops\u001b[0m\u001b[0;34m.\u001b[0m\u001b[0mindex\u001b[0m\u001b[0;34m(\u001b[0m\u001b[0mx\u001b[0m\u001b[0;34m)\u001b[0m \u001b[0;32mfor\u001b[0m \u001b[0mx\u001b[0m \u001b[0;32min\u001b[0m \u001b[0march\u001b[0m\u001b[0;34m[\u001b[0m\u001b[0;34m'ops'\u001b[0m\u001b[0;34m]\u001b[0m\u001b[0;34m]\u001b[0m\u001b[0;34m,\u001b[0m \u001b[0mdtype\u001b[0m\u001b[0;34m=\u001b[0m\u001b[0mtorch\u001b[0m\u001b[0;34m.\u001b[0m\u001b[0mlong\u001b[0m\u001b[0;34m)\u001b[0m\u001b[0;34m\u001b[0m\u001b[0;34m\u001b[0m\u001b[0m\n\u001b[0m\u001b[1;32m     22\u001b[0m     \u001b[0;32mif\u001b[0m \u001b[0;34m'acc'\u001b[0m \u001b[0;32min\u001b[0m \u001b[0march\u001b[0m\u001b[0;34m.\u001b[0m\u001b[0mkeys\u001b[0m\u001b[0;34m(\u001b[0m\u001b[0;34m)\u001b[0m\u001b[0;34m:\u001b[0m\u001b[0;34m\u001b[0m\u001b[0;34m\u001b[0m\u001b[0m\n\u001b[1;32m     23\u001b[0m         \u001b[0my\u001b[0m \u001b[0;34m=\u001b[0m \u001b[0mtorch\u001b[0m\u001b[0;34m.\u001b[0m\u001b[0mones_like\u001b[0m\u001b[0;34m(\u001b[0m\u001b[0mx\u001b[0m\u001b[0;34m)\u001b[0m \u001b[0;34m*\u001b[0m \u001b[0march\u001b[0m\u001b[0;34m[\u001b[0m\u001b[0;34m'acc'\u001b[0m\u001b[0;34m]\u001b[0m\u001b[0;34m\u001b[0m\u001b[0;34m\u001b[0m\u001b[0m\n",
      "\u001b[0;31mValueError\u001b[0m: 'avg_pool_3x3' is not in list"
     ]
    }
   ],
   "source": [
    "arch_1  = [(('avg_pool_3x3', 0),), (('nor_conv_1x1', 0), ('skip_connect', 1)), (('nor_conv_1x1', 0), ('skip_connect', 1), ('skip_connect', 2))]\n",
    "arch_1_ = [(('avg_pool_3x3', 0),), (('nor_conv_1x1', 0), ('nor_conv_3x3', 1)), (('nor_conv_1x1', 0), ('skip_connect', 1), ('skip_connect', 2))]\n",
    "arch_2  = [(('nor_conv_1x1', 0),), (('nor_conv_3x3', 0), ('skip_connect', 1)), (('skip_connect', 0), ('skip_connect', 1), ('avg_pool_3x3', 2))]\n",
    "arch_2_ = [(('nor_conv_1x1', 0),), (('nor_conv_3x3', 0), ('nor_conv_3x3', 1)), (('skip_connect', 0), ('skip_connect', 1), ('avg_pool_3x3', 2))]\n",
    "arch_3  = [(('nor_conv_3x3', 0),), (('nor_conv_3x3', 0), ('skip_connect', 1)), (('avg_pool_3x3', 0), ('skip_connect', 1), ('avg_pool_3x3', 2))]\n",
    "arch_3_ = [(('nor_conv_3x3', 0),), (('nor_conv_3x3', 0), ('nor_conv_3x3', 1)), (('avg_pool_3x3', 0), ('skip_connect', 1), ('avg_pool_3x3', 2))]\n",
    "archs = [(arch_1,), (arch_1_,), (arch_2,), (arch_2_,), (arch_3,), (arch_3_,), ]\n",
    "\n",
    "arch_1  = nasbench201_to_nasbench101(arch_1)\n",
    "arch_1_ = nasbench201_to_nasbench101(arch_1_)\n",
    "arch_2  = nasbench201_to_nasbench101(arch_2)\n",
    "arch_2_ = nasbench201_to_nasbench101(arch_2_)\n",
    "\n",
    "print(archs)\n",
    "data_list = []\n",
    "for arch in archs:\n",
    "    a = nasbench201_to_nasbench101(arch[0])\n",
    "    data_list.append(arch2Data(a))\n",
    "batch = Batch.from_data_list(data_list)\n",
    "print(batch)"
   ]
  },
  {
   "cell_type": "code",
   "execution_count": 46,
   "metadata": {},
   "outputs": [
    {
     "data": {
      "text/plain": [
       "<All keys matched successfully>"
      ]
     },
     "execution_count": 46,
     "metadata": {},
     "output_type": "execute_result"
    }
   ],
   "source": [
    "from utils import get_base_model, get_activation\n",
    "from model import PairWiseLearning_BARLOW_TWINS, PairWiseLearning_MVGRL, Predictor, MAELearning\n",
    "#encoder = Encoder(len(available_ops), 32, 128, get_activation('prelu'), base_model=get_base_model('GATConv'), k=3, skip=True, use_bn=True)\n",
    "encoder = MAELearning(len(available_ops), 16, 32, get_activation('prelu'), get_base_model('GATConv'), 0.0, 0.0, 0.0, 0.0, 0.0, 0.0, '64')\n",
    "#encoder.load_state_dict(torch.load(os.path.join('finetune101_rep', 'finetune_encoder_449.pt')), False)\n",
    "#encoder.load_state_dict(torch.load(os.path.join('pretrain101_aug_mask_1', 'model_449.pt')))\n",
    "#encoder.load_state_dict(torch.load(os.path.join('pretrain101_aug_diff_1', 'model_449.pt')))\n",
    "#encoder.load_state_dict(torch.load(os.path.join('pretrain101_aug_mask_diff_1', 'model_449.pt')))\n",
    "#encoder.load_state_dict(torch.load(os.path.join('finetune101_rep_mask_1', 'finetune_encoder_449.pt')), False)\n",
    "#encoder.load_state_dict(torch.load(os.path.join('finetune101_rep_diff_1', 'finetune_encoder_449.pt')), False)\n",
    "#encoder.load_state_dict(torch.load(os.path.join('finetune101_rep_mask_diff_1', 'finetune_encoder_449.pt')), False)\n",
    "encoder.load_state_dict(torch.load(os.path.join('pretrain101', 'best_model_15712.pt')))\n",
    "#print(encoder)"
   ]
  },
  {
   "cell_type": "code",
   "execution_count": 47,
   "metadata": {},
   "outputs": [
    {
     "name": "stdout",
     "output_type": "stream",
     "text": [
      "(10, 32)\n"
     ]
    }
   ],
   "source": [
    "encoder.eval()\n",
    "x          = batch.x\n",
    "edge_index = batch.edge_index\n",
    "ptr        = batch.ptr\n",
    "with torch.no_grad():\n",
    "    z, g = encoder(x, edge_index, ptr, x, edge_index, ptr)\n",
    "g = g.detach().numpy()\n",
    "print(g.shape)"
   ]
  },
  {
   "cell_type": "code",
   "execution_count": 50,
   "metadata": {},
   "outputs": [
    {
     "name": "stdout",
     "output_type": "stream",
     "text": [
      "[[ 0.00168542  0.07303245]\n",
      " [ 0.06506784 -0.02570245]\n",
      " [ 0.81249714  0.0597867 ]\n",
      " [ 1.1712697   0.304913  ]\n",
      " [-0.33354652 -0.3287491 ]\n",
      " [-0.30415145 -0.34172133]\n",
      " [-0.12970825 -0.16036227]\n",
      " [-0.29662374 -0.4294592 ]\n",
      " [ 0.00168544  0.07303237]\n",
      " [-0.98817444  0.77522933]]\n"
     ]
    },
    {
     "data": {
      "image/png": "[encoded data removed]",
      "text/plain": [
       "<Figure size 432x288 with 1 Axes>"
      ]
     },
     "metadata": {
      "needs_background": "light"
     },
     "output_type": "display_data"
    }
   ],
   "source": [
    "from sklearn.decomposition import PCA\n",
    "import matplotlib.pyplot as plt\n",
    "sklearn_pca = PCA(n_components=2)\n",
    "data_2d = sklearn_pca.fit_transform(g)\n",
    "print(data_2d)\n",
    "plt.figure()\n",
    "colors = ['red','green','blue','orange','pink', 'black']\n",
    "for i in range(data_2d.shape[0]//2-1):\n",
    "    plt.scatter(data_2d[2*i:2*(i+1), 0], data_2d[2*i:2*(i+1), 1], c=colors[i])\n",
    "plt.scatter(data_2d[8:9, 0], data_2d[8:9, 1], c=colors[-1])\n",
    "plt.scatter(data_2d[9:10, 0], data_2d[9:10, 1])\n",
    "plt.show()"
   ]
  },
  {
   "cell_type": "code",
   "execution_count": null,
   "metadata": {},
   "outputs": [],
   "source": []
  }
 ],
 "metadata": {
  "kernelspec": {
   "display_name": "pytorch",
   "language": "python",
   "name": "pytorch"
  },
  "language_info": {
   "codemirror_mode": {
    "name": "ipython",
    "version": 3
   },
   "file_extension": ".py",
   "mimetype": "text/x-python",
   "name": "python",
   "nbconvert_exporter": "python",
   "pygments_lexer": "ipython3",
   "version": "3.8.0"
  }
 },
 "nbformat": 4,
 "nbformat_minor": 2
}
